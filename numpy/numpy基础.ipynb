{
 "cells": [
  {
   "cell_type": "markdown",
   "id": "9938b14f",
   "metadata": {},
   "source": [
    "# 1.声明"
   ]
  },
  {
   "cell_type": "code",
   "execution_count": 2,
   "id": "3916205c",
   "metadata": {},
   "outputs": [
    {
     "data": {
      "text/plain": [
       "array([2, 5, 7])"
      ]
     },
     "execution_count": 2,
     "metadata": {},
     "output_type": "execute_result"
    }
   ],
   "source": [
    "import numpy as np\n",
    "a = np.array([2,4,5,6,7,9])\n",
    "a[0:6:2]"
   ]
  },
  {
   "cell_type": "code",
   "execution_count": 3,
   "id": "341ac49b",
   "metadata": {},
   "outputs": [
    {
     "data": {
      "text/plain": [
       "array([0, 1, 2, 3])"
      ]
     },
     "execution_count": 3,
     "metadata": {},
     "output_type": "execute_result"
    }
   ],
   "source": [
    "np.arange(4)"
   ]
  },
  {
   "cell_type": "code",
   "execution_count": 4,
   "id": "3f9a3c57",
   "metadata": {},
   "outputs": [
    {
     "data": {
      "text/plain": [
       "array([ 0. ,  2.5,  5. ,  7.5, 10. ])"
      ]
     },
     "execution_count": 4,
     "metadata": {},
     "output_type": "execute_result"
    }
   ],
   "source": [
    "np.linspace(0,10,num=5)"
   ]
  },
  {
   "cell_type": "markdown",
   "id": "267867ef",
   "metadata": {},
   "source": [
    "# 2.操作"
   ]
  },
  {
   "cell_type": "code",
   "execution_count": 7,
   "id": "f272adf3",
   "metadata": {},
   "outputs": [
    {
     "data": {
      "text/plain": [
       "array([[1, 2],\n",
       "       [3, 4],\n",
       "       [5, 6]])"
      ]
     },
     "execution_count": 7,
     "metadata": {},
     "output_type": "execute_result"
    }
   ],
   "source": [
    "x = np.array([[1,2],[3,4]])\n",
    "y = np.array([[5,6]])\n",
    "a = np.concatenate((x,y),axis=0)\n",
    "a"
   ]
  },
  {
   "cell_type": "code",
   "execution_count": 30,
   "id": "7c57a7b1",
   "metadata": {},
   "outputs": [
    {
     "data": {
      "text/plain": [
       "array([0, 1, 2, 3, 4, 5])"
      ]
     },
     "execution_count": 30,
     "metadata": {},
     "output_type": "execute_result"
    }
   ],
   "source": [
    "b = np.arange(6)\n"
   ]
  },
  {
   "cell_type": "code",
   "execution_count": 66,
   "id": "a10d2569",
   "metadata": {},
   "outputs": [
    {
     "data": {
      "text/plain": [
       "array([[0, 1, 2],\n",
       "       [3, 4, 5]])"
      ]
     },
     "execution_count": 66,
     "metadata": {},
     "output_type": "execute_result"
    }
   ],
   "source": [
    "b1 = b.reshape(2,3)\n",
    "b1"
   ]
  },
  {
   "cell_type": "code",
   "execution_count": 67,
   "id": "6afbb4a6",
   "metadata": {},
   "outputs": [
    {
     "data": {
      "text/plain": [
       "array([[ 0, 99,  2],\n",
       "       [ 3,  4,  5]])"
      ]
     },
     "execution_count": 67,
     "metadata": {},
     "output_type": "execute_result"
    }
   ],
   "source": [
    "b[1] = 99\n",
    "b1"
   ]
  },
  {
   "cell_type": "code",
   "execution_count": 37,
   "id": "fd950256",
   "metadata": {},
   "outputs": [
    {
     "data": {
      "text/plain": [
       "(6, 1)"
      ]
     },
     "execution_count": 37,
     "metadata": {},
     "output_type": "execute_result"
    }
   ],
   "source": [
    "c = np.expand_dims(b,1)\n",
    "c.shape"
   ]
  },
  {
   "cell_type": "markdown",
   "id": "6764aed2",
   "metadata": {},
   "source": [
    "# 3数据筛选"
   ]
  },
  {
   "cell_type": "code",
   "execution_count": 40,
   "id": "9d1a87a5",
   "metadata": {},
   "outputs": [
    {
     "data": {
      "text/plain": [
       "array([0, 1, 2])"
      ]
     },
     "execution_count": 40,
     "metadata": {},
     "output_type": "execute_result"
    }
   ],
   "source": [
    "d = np.arange(12)\n",
    "[d>3]\n",
    "d[d<3]"
   ]
  },
  {
   "cell_type": "code",
   "execution_count": 56,
   "id": "58916e75",
   "metadata": {},
   "outputs": [
    {
     "data": {
      "text/plain": [
       "array([1, 2, 3, 4])"
      ]
     },
     "execution_count": 56,
     "metadata": {},
     "output_type": "execute_result"
    }
   ],
   "source": [
    "e = np.array([[1,2,3,4],\n",
    "        [5,6,7,8],\n",
    "        [9,10,11,12]])\n",
    "f = np.nonzero(e<5)\n",
    "e[f]\n"
   ]
  },
  {
   "cell_type": "markdown",
   "id": "eafd5d87",
   "metadata": {},
   "source": [
    "# 4堆叠,拆分矩阵\n"
   ]
  },
  {
   "cell_type": "code",
   "execution_count": 62,
   "id": "0fac5a30",
   "metadata": {},
   "outputs": [
    {
     "data": {
      "text/plain": [
       "array([[1, 1],\n",
       "       [2, 2],\n",
       "       [3, 3],\n",
       "       [4, 4]])"
      ]
     },
     "execution_count": 62,
     "metadata": {},
     "output_type": "execute_result"
    }
   ],
   "source": [
    "g = np.array([[1,1],\n",
    "             [2,2]])\n",
    "h = np.array([[3,3],\n",
    "             [4,4]])\n",
    "i = np.vstack((g,h))\n",
    "i"
   ]
  },
  {
   "cell_type": "code",
   "execution_count": 63,
   "id": "098af3c6",
   "metadata": {},
   "outputs": [
    {
     "data": {
      "text/plain": [
       "[array([[1, 1],\n",
       "        [2, 2]]),\n",
       " array([[3, 3],\n",
       "        [4, 4]])]"
      ]
     },
     "execution_count": 63,
     "metadata": {},
     "output_type": "execute_result"
    }
   ],
   "source": [
    "np.vsplit(i,2)"
   ]
  },
  {
   "cell_type": "code",
   "execution_count": 64,
   "id": "59d6e945",
   "metadata": {},
   "outputs": [
    {
     "data": {
      "text/plain": [
       "[array([[1, 1]]),\n",
       " array([[2, 2],\n",
       "        [3, 3]]),\n",
       " array([[4, 4]])]"
      ]
     },
     "execution_count": 64,
     "metadata": {},
     "output_type": "execute_result"
    }
   ],
   "source": [
    "np.vsplit(i,(1,3))"
   ]
  },
  {
   "cell_type": "markdown",
   "id": "9f6b4bdd",
   "metadata": {},
   "source": [
    "# 5.重复元素过滤"
   ]
  },
  {
   "cell_type": "code",
   "execution_count": 71,
   "id": "46d3ccf8",
   "metadata": {},
   "outputs": [
    {
     "data": {
      "text/plain": [
       "array([0, 3, 5, 6, 7, 8], dtype=int64)"
      ]
     },
     "execution_count": 71,
     "metadata": {},
     "output_type": "execute_result"
    }
   ],
   "source": [
    "j = np.array([0,0,0,1,1,2,3,4,5])\n",
    "j_nique,index = np.unique(j,return_index=True)\n",
    "j_nique\n",
    "index"
   ]
  },
  {
   "cell_type": "markdown",
   "id": "7075a7ce",
   "metadata": {},
   "source": [
    "# 6.转置"
   ]
  },
  {
   "cell_type": "code",
   "execution_count": 74,
   "id": "4de4042f",
   "metadata": {},
   "outputs": [],
   "source": [
    "k = np.arange(6)"
   ]
  },
  {
   "cell_type": "code",
   "execution_count": 76,
   "id": "c4d08f0b",
   "metadata": {},
   "outputs": [
    {
     "data": {
      "text/plain": [
       "array([[0, 1, 2],\n",
       "       [3, 4, 5]])"
      ]
     },
     "execution_count": 76,
     "metadata": {},
     "output_type": "execute_result"
    }
   ],
   "source": [
    "k1 = k.reshape(2,3)\n",
    "k1"
   ]
  },
  {
   "cell_type": "code",
   "execution_count": 77,
   "id": "07597578",
   "metadata": {},
   "outputs": [
    {
     "data": {
      "text/plain": [
       "array([[0, 3],\n",
       "       [1, 4],\n",
       "       [2, 5]])"
      ]
     },
     "execution_count": 77,
     "metadata": {},
     "output_type": "execute_result"
    }
   ],
   "source": [
    "k1.transpose()"
   ]
  },
  {
   "cell_type": "code",
   "execution_count": 79,
   "id": "f93241dd",
   "metadata": {},
   "outputs": [
    {
     "data": {
      "text/plain": [
       "array([[5, 4, 3],\n",
       "       [2, 1, 0]])"
      ]
     },
     "execution_count": 79,
     "metadata": {},
     "output_type": "execute_result"
    }
   ],
   "source": [
    "np.flip(k1)"
   ]
  },
  {
   "cell_type": "markdown",
   "id": "daff2932",
   "metadata": {},
   "source": [
    "# 7.数组的加载和保存\n"
   ]
  },
  {
   "cell_type": "code",
   "execution_count": 85,
   "id": "a065c994",
   "metadata": {},
   "outputs": [],
   "source": [
    "l = np.array([1,2,3,4,5,6])\n",
    "np.savetxt('./npdata.csv',l)"
   ]
  },
  {
   "cell_type": "code",
   "execution_count": 83,
   "id": "f7b14c93",
   "metadata": {},
   "outputs": [
    {
     "data": {
      "text/plain": [
       "array([1, 2, 3, 4, 5, 6])"
      ]
     },
     "execution_count": 83,
     "metadata": {},
     "output_type": "execute_result"
    }
   ],
   "source": [
    "m = np.load('./npdata.npy')\n",
    "m"
   ]
  }
 ],
 "metadata": {
  "kernelspec": {
   "display_name": "pytorch",
   "language": "python",
   "name": "python3"
  },
  "language_info": {
   "codemirror_mode": {
    "name": "ipython",
    "version": 3
   },
   "file_extension": ".py",
   "mimetype": "text/x-python",
   "name": "python",
   "nbconvert_exporter": "python",
   "pygments_lexer": "ipython3",
   "version": "3.6.13"
  }
 },
 "nbformat": 4,
 "nbformat_minor": 5
}
